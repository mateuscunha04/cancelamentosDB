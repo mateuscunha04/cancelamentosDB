{
 "cells": [
  {
   "cell_type": "code",
   "execution_count": null,
   "metadata": {},
   "outputs": [],
   "source": [
    "import pandas as pd\n",
    "\n",
    "tabela = pd.read_csv(\"cancelamentos.csv\")\n",
    "tabela = tabela.drop(\"CustomerID\", axis=1)\n",
    "display(tabela)"
   ]
  },
  {
   "cell_type": "code",
   "execution_count": null,
   "metadata": {},
   "outputs": [],
   "source": [
    "display(tabela.info())\n",
    "tabela = tabela.dropna()\n",
    "display(tabela.info())"
   ]
  },
  {
   "cell_type": "code",
   "execution_count": null,
   "metadata": {},
   "outputs": [],
   "source": [
    "display(tabela[\"cancelou\"].value_counts())\n",
    "display(tabela[\"cancelou\"].value_counts(normalize=True).map(\"{:.1%}\".format))"
   ]
  },
  {
   "cell_type": "code",
   "execution_count": null,
   "metadata": {},
   "outputs": [],
   "source": [
    "display(tabela[\"sexo\"].value_counts())\n",
    "display(tabela[\"sexo\"].value_counts(normalize=True).map(\"{:.1%}\".format))\n",
    "display(tabela.groupby(\"sexo\").mean(numeric_only=True))"
   ]
  },
  {
   "cell_type": "code",
   "execution_count": null,
   "metadata": {},
   "outputs": [],
   "source": [
    "display(tabela[\"assinatura\"].value_counts())\n",
    "display(tabela[\"assinatura\"].value_counts(normalize=True).map(\"{:.1%}\".format))\n",
    "display(tabela.groupby(\"assinatura\").mean(numeric_only=True))"
   ]
  },
  {
   "cell_type": "code",
   "execution_count": null,
   "metadata": {},
   "outputs": [],
   "source": [
    "display(tabela[\"duracao_contrato\"].value_counts())\n",
    "display(tabela[\"duracao_contrato\"].value_counts(normalize=True).map(\"{:.1%}\".format))\n",
    "display(tabela.groupby(\"duracao_contrato\").mean(numeric_only=True))"
   ]
  },
  {
   "cell_type": "code",
   "execution_count": null,
   "metadata": {},
   "outputs": [],
   "source": [
    "tabela = tabela[tabela[\"idade\"] >= 50]\n",
    "display(tabela)\n",
    "display(tabela[\"cancelou\"].value_counts())\n",
    "display(tabela[\"cancelou\"].value_counts(normalize=True).map(\"{:.1%}\".format))"
   ]
  },
  {
   "cell_type": "code",
   "execution_count": null,
   "metadata": {},
   "outputs": [],
   "source": [
    "tabela = tabela[tabela[\"tempo_como_cliente\"] <= 5]\n",
    "display(tabela)\n",
    "display(tabela[\"cancelou\"].value_counts())\n",
    "display(tabela[\"cancelou\"].value_counts(normalize=True).map(\"{:.1%}\".format))"
   ]
  },
  {
   "cell_type": "code",
   "execution_count": null,
   "metadata": {},
   "outputs": [],
   "source": [
    "tabela = tabela[tabela[\"dias_atraso\"]>=20.0]\n",
    "display(tabela)\n",
    "display(tabela[\"cancelou\"].value_counts())\n",
    "display(tabela[\"cancelou\"].value_counts(normalize=True).map(\"{:.1%}\".format))"
   ]
  },
  {
   "cell_type": "code",
   "execution_count": null,
   "metadata": {},
   "outputs": [],
   "source": [
    "tabela = tabela[tabela[\"frequencia_uso\"]<=5.0]\n",
    "display(tabela)\n",
    "display(tabela[\"cancelou\"].value_counts())\n",
    "display(tabela[\"cancelou\"].value_counts(normalize=True).map(\"{:.1%}\".format))"
   ]
  },
  {
   "cell_type": "code",
   "execution_count": null,
   "metadata": {},
   "outputs": [],
   "source": [
    "tabela = tabela[tabela[\"ligacoes_callcenter\"]>=5.0]\n",
    "display(tabela)\n",
    "display(tabela[\"cancelou\"].value_counts())\n",
    "display(tabela[\"cancelou\"].value_counts(normalize=True).map(\"{:.1%}\".format))"
   ]
  },
  {
   "cell_type": "code",
   "execution_count": null,
   "metadata": {},
   "outputs": [],
   "source": [
    "tabela = tabela[tabela[\"total_gasto\"]<=500.0]\n",
    "display(tabela)\n",
    "display(tabela[\"cancelou\"].value_counts())\n",
    "display(tabela[\"cancelou\"].value_counts(normalize=True).map(\"{:.1%}\".format))"
   ]
  },
  {
   "cell_type": "code",
   "execution_count": null,
   "metadata": {},
   "outputs": [],
   "source": [
    "tabela = tabela[tabela[\"meses_ultima_interacao\"]>=20.0]\n",
    "display(tabela)\n",
    "display(tabela[\"cancelou\"].value_counts())\n",
    "display(tabela[\"cancelou\"].value_counts(normalize=True).map(\"{:.1%}\".format))"
   ]
  }
 ],
 "metadata": {
  "kernelspec": {
   "display_name": "Python 3",
   "language": "python",
   "name": "python3"
  },
  "language_info": {
   "codemirror_mode": {
    "name": "ipython",
    "version": 3
   },
   "file_extension": ".py",
   "mimetype": "text/x-python",
   "name": "python",
   "nbconvert_exporter": "python",
   "pygments_lexer": "ipython3",
   "version": "3.11.9"
  }
 },
 "nbformat": 4,
 "nbformat_minor": 2
}
